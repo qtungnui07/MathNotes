{
 "cells": [
  {
   "cell_type": "code",
   "execution_count": 1,
   "metadata": {},
   "outputs": [
    {
     "ename": "FileNotFoundError",
     "evalue": "[WinError 3] The system cannot find the path specified: '/content/drive/My Drive/cropped_images'",
     "output_type": "error",
     "traceback": [
      "\u001b[1;31m---------------------------------------------------------------------------\u001b[0m",
      "\u001b[1;31mFileNotFoundError\u001b[0m                         Traceback (most recent call last)",
      "Cell \u001b[1;32mIn[1], line 14\u001b[0m\n\u001b[0;32m     11\u001b[0m \u001b[38;5;66;03m# Chỉ định chất lượng nén JPEG (0 đến 100)\u001b[39;00m\n\u001b[0;32m     12\u001b[0m jpeg_quality \u001b[38;5;241m=\u001b[39m \u001b[38;5;241m90\u001b[39m  \u001b[38;5;66;03m# Bạn có thể thay đổi giá trị này để điều chỉnh chất lượng ảnh\u001b[39;00m\n\u001b[1;32m---> 14\u001b[0m \u001b[38;5;28;01mfor\u001b[39;00m filename \u001b[38;5;129;01min\u001b[39;00m tqdm(\u001b[43mos\u001b[49m\u001b[38;5;241;43m.\u001b[39;49m\u001b[43mlistdir\u001b[49m\u001b[43m(\u001b[49m\u001b[38;5;124;43m'\u001b[39;49m\u001b[38;5;124;43m/content/drive/My Drive/cropped_images\u001b[39;49m\u001b[38;5;124;43m'\u001b[39;49m\u001b[43m)\u001b[49m):\n\u001b[0;32m     15\u001b[0m     \u001b[38;5;28;01mif\u001b[39;00m filename\u001b[38;5;241m.\u001b[39mlower()\u001b[38;5;241m.\u001b[39mendswith((\u001b[38;5;124m'\u001b[39m\u001b[38;5;124m.jpg\u001b[39m\u001b[38;5;124m'\u001b[39m, \u001b[38;5;124m'\u001b[39m\u001b[38;5;124m.png\u001b[39m\u001b[38;5;124m'\u001b[39m, \u001b[38;5;124m'\u001b[39m\u001b[38;5;124m.jpeg\u001b[39m\u001b[38;5;124m'\u001b[39m)):\n\u001b[0;32m     16\u001b[0m         image_path \u001b[38;5;241m=\u001b[39m os\u001b[38;5;241m.\u001b[39mpath\u001b[38;5;241m.\u001b[39mjoin(\u001b[38;5;124m'\u001b[39m\u001b[38;5;124m/content/drive/My Drive/cropped_images\u001b[39m\u001b[38;5;124m'\u001b[39m, filename)\n",
      "\u001b[1;31mFileNotFoundError\u001b[0m: [WinError 3] The system cannot find the path specified: '/content/drive/My Drive/cropped_images'"
     ]
    }
   ],
   "source": [
    "import os\n",
    "import cv2\n",
    "from tqdm import tqdm\n",
    "\n",
    "output_path = '/content/drive/My Drive/resized_images'\n",
    "\n",
    "# Tạo thư mục nếu chưa tồn tại\n",
    "if not os.path.exists(output_path):\n",
    "    os.makedirs(output_path)\n",
    "\n",
    "# Chỉ định chất lượng nén JPEG (0 đến 100)\n",
    "jpeg_quality = 90  # Bạn có thể thay đổi giá trị này để điều chỉnh chất lượng ảnh\n",
    "\n",
    "for filename in tqdm(os.listdir('/content/drive/My Drive/cropped_images')):\n",
    "    if filename.lower().endswith(('.jpg', '.png', '.jpeg')):\n",
    "        image_path = os.path.join('/content/drive/My Drive/cropped_images', filename)\n",
    "        img = cv2.imread(image_path)\n",
    "\n",
    "        if img is not None:\n",
    "            # Thay đổi kích thước ảnh\n",
    "            new_width = int(img.shape[1] / 2)\n",
    "            new_height = int(img.shape[0] / 2)\n",
    "            resized_img = cv2.resize(img, (new_width, new_height))\n",
    "\n",
    "            # Lưu ảnh đã thay đổi kích thước dưới dạng JPEG với chất lượng nén\n",
    "            output_resized_path = os.path.join(output_path, filename.replace('.png', '.jpg').replace('.jpeg', '.jpg'))\n",
    "            cv2.imwrite(output_resized_path, resized_img, [int(cv2.IMWRITE_JPEG_QUALITY), jpeg_quality])\n",
    "\n",
    "print(\"Hoàn tất quá trình resize và chuyển đổi sang JPEG!\")\n"
   ]
  },
  {
   "cell_type": "code",
   "execution_count": 1,
   "metadata": {},
   "outputs": [
    {
     "name": "stderr",
     "output_type": "stream",
     "text": [
      "  9%|▊         | 658/7720 [00:20<03:39, 32.24it/s]\n"
     ]
    },
    {
     "ename": "KeyboardInterrupt",
     "evalue": "",
     "output_type": "error",
     "traceback": [
      "\u001b[1;31m---------------------------------------------------------------------------\u001b[0m",
      "\u001b[1;31mKeyboardInterrupt\u001b[0m                         Traceback (most recent call last)",
      "Cell \u001b[1;32mIn[1], line 15\u001b[0m\n\u001b[0;32m     13\u001b[0m \u001b[38;5;28;01mif\u001b[39;00m filename\u001b[38;5;241m.\u001b[39mendswith((\u001b[38;5;124m'\u001b[39m\u001b[38;5;124m.jpg\u001b[39m\u001b[38;5;124m'\u001b[39m, \u001b[38;5;124m'\u001b[39m\u001b[38;5;124m.png\u001b[39m\u001b[38;5;124m'\u001b[39m, \u001b[38;5;124m'\u001b[39m\u001b[38;5;124m.jpeg\u001b[39m\u001b[38;5;124m'\u001b[39m)):\n\u001b[0;32m     14\u001b[0m     image_path \u001b[38;5;241m=\u001b[39m os\u001b[38;5;241m.\u001b[39mpath\u001b[38;5;241m.\u001b[39mjoin(dataset_path, filename)\n\u001b[1;32m---> 15\u001b[0m     img \u001b[38;5;241m=\u001b[39m \u001b[43mcv2\u001b[49m\u001b[38;5;241;43m.\u001b[39;49m\u001b[43mimread\u001b[49m\u001b[43m(\u001b[49m\u001b[43mimage_path\u001b[49m\u001b[43m)\u001b[49m\n\u001b[0;32m     17\u001b[0m     \u001b[38;5;66;03m# Chuyển đổi sang ảnh xám\u001b[39;00m\n\u001b[0;32m     18\u001b[0m     gray \u001b[38;5;241m=\u001b[39m cv2\u001b[38;5;241m.\u001b[39mcvtColor(img, cv2\u001b[38;5;241m.\u001b[39mCOLOR_BGR2GRAY)\n",
      "\u001b[1;31mKeyboardInterrupt\u001b[0m: "
     ]
    }
   ],
   "source": [
    "\n",
    "\n",
    "import os\n",
    "import cv2\n",
    "from tqdm import tqdm\n",
    "dataset_path = 'secret_test_set'  # Thư mục chứa dataset\n",
    "output_path = 'secret_test_set_cropped'  # Thư mục trên Google Drive để lưu ảnh đã crop\n",
    "\n",
    "# Tạo thư mục nếu chưa tồn tại\n",
    "if not os.path.exists(output_path):\n",
    "    os.makedirs(output_path)\n",
    "\n",
    "# Lặp qua các tệp trong dataset\n",
    "for filename in tqdm(os.listdir(dataset_path)):\n",
    "    if filename.endswith(('.jpg', '.png', '.jpeg')):\n",
    "        image_path = os.path.join(dataset_path, filename)\n",
    "        img = cv2.imread(image_path)\n",
    "\n",
    "        # Chuyển đổi sang ảnh xám\n",
    "        gray = cv2.cvtColor(img, cv2.COLOR_BGR2GRAY)\n",
    "\n",
    "        # Làm mờ để giảm nhiễu\n",
    "        blurred = cv2.GaussianBlur(gray, (5, 5), 0)\n",
    "\n",
    "        # Áp dụng ngưỡng nhị phân\n",
    "        _, binary = cv2.threshold(blurred, 150, 255, cv2.THRESH_BINARY_INV)\n",
    "\n",
    "        # Tìm các đường viền\n",
    "        contours, _ = cv2.findContours(binary, cv2.RETR_EXTERNAL, cv2.CHAIN_APPROX_SIMPLE)\n",
    "\n",
    "        # Khởi tạo các điểm cực trị cho hộp bao\n",
    "        x_min, y_min = img.shape[1], img.shape[0]\n",
    "        x_max, y_max = 0, 0\n",
    "\n",
    "        # Tìm các điểm cực trị qua từng contour\n",
    "        for contour in contours:\n",
    "            x, y, w, h = cv2.boundingRect(contour)\n",
    "            x_min = min(x_min, x)\n",
    "            y_min = min(y_min, y)\n",
    "            x_max = max(x_max, x + w)\n",
    "            y_max = max(y_max, y + h)\n",
    "\n",
    "        # Cắt ảnh bằng hộp bao\n",
    "        if x_min < x_max and y_min < y_max:\n",
    "            cropped_img = img[y_min:y_max, x_min:x_max]\n",
    "\n",
    "            # Lưu ảnh đã cắt vào Google Drive\n",
    "            output_cropped_path = os.path.join(output_path, filename)\n",
    "            cv2.imwrite(output_cropped_path, cropped_img)\n",
    "\n",
    "print(\"Quá trình xử lý và lưu ảnh hoàn tất!\")"
   ]
  },
  {
   "cell_type": "code",
   "execution_count": 7,
   "metadata": {},
   "outputs": [
    {
     "name": "stderr",
     "output_type": "stream",
     "text": [
      "Resizing Images: 100%|██████████| 8115/8115 [05:15<00:00, 25.69image/s]\n"
     ]
    }
   ],
   "source": [
    "import os\n",
    "import requests\n",
    "from PIL import Image\n",
    "from io import BytesIO\n",
    "from tqdm import tqdm  # Import tqdm\n",
    "\n",
    "def resize_image(input_path, output_path, target_width, target_height):\n",
    "    img = Image.open(input_path)\n",
    "\n",
    "    # Tính toán tỷ lệ\n",
    "    aspect_ratio = img.width / img.height\n",
    "\n",
    "    # Tính toán kích thước mới\n",
    "    if target_width / target_height > aspect_ratio:\n",
    "        new_width = int(target_height * aspect_ratio)\n",
    "        new_height = target_height\n",
    "    else:\n",
    "        new_width = target_width\n",
    "        new_height = int(target_width / aspect_ratio)\n",
    "\n",
    "    # Resize ảnh\n",
    "    img_resized = img.resize((new_width, new_height), Image.LANCZOS)\n",
    "\n",
    "    # Tạo một bức ảnh mới với màu trắng\n",
    "    img_final = Image.new(\"RGB\", (target_width, target_height), (255, 255, 255))  # Màu trắng\n",
    "\n",
    "    # Tính toán vị trí để chèn ảnh đã resize\n",
    "    left = (target_width - new_width) // 2\n",
    "    top = (target_height - new_height) // 2\n",
    "\n",
    "    # Chèn ảnh đã resize vào bức ảnh mới\n",
    "    img_final.paste(img_resized, (left, top))\n",
    "\n",
    "    # Lưu ảnh\n",
    "    img_final.save(output_path)\n",
    "# Đường dẫn tới folder chứa ảnh và folder output\n",
    "input_folder = 'cropped_images'  # Thay đổi theo thư mục của bạn\n",
    "output_folder = 'fixed_im'  # Thay đổi theo thư mục của bạn\n",
    "\n",
    "# Tạo folder output nếu chưa tồn tại\n",
    "os.makedirs(output_folder, exist_ok=True)\n",
    "\n",
    "# Lấy danh sách tất cả file ảnh trong folder input\n",
    "image_files = [f for f in os.listdir(input_folder) if f.endswith(('.png', '.jpg', '.jpeg'))]\n",
    "\n",
    "# Resize tất cả ảnh trong folder\n",
    "for filename in tqdm(image_files, desc=\"Resizing Images\", unit=\"image\"):\n",
    "    input_path = os.path.join(input_folder, filename)\n",
    "    output_path = os.path.join(output_folder, filename)\n",
    "    resize_image(input_path, output_path, 512, 64)\n"
   ]
  }
 ],
 "metadata": {
  "kernelspec": {
   "display_name": "Python 3",
   "language": "python",
   "name": "python3"
  },
  "language_info": {
   "codemirror_mode": {
    "name": "ipython",
    "version": 3
   },
   "file_extension": ".py",
   "mimetype": "text/x-python",
   "name": "python",
   "nbconvert_exporter": "python",
   "pygments_lexer": "ipython3",
   "version": "3.12.5"
  }
 },
 "nbformat": 4,
 "nbformat_minor": 2
}
